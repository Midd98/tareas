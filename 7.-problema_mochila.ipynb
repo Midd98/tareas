{
  "nbformat": 4,
  "nbformat_minor": 0,
  "metadata": {
    "kernelspec": {
      "display_name": "Python 3",
      "language": "python",
      "name": "python3"
    },
    "language_info": {
      "codemirror_mode": {
        "name": "ipython",
        "version": 3
      },
      "file_extension": ".py",
      "mimetype": "text/x-python",
      "name": "python",
      "nbconvert_exporter": "python",
      "pygments_lexer": "ipython3",
      "version": "3.6.9"
    },
    "colab": {
      "name": "7.-problema_mochila.ipynb",
      "provenance": [],
      "include_colab_link": true
    }
  },
  "cells": [
    {
      "cell_type": "markdown",
      "metadata": {
        "id": "view-in-github",
        "colab_type": "text"
      },
      "source": [
        "<a href=\"https://colab.research.google.com/github/Midd98/tareas/blob/master/7.-problema_mochila.ipynb\" target=\"_parent\"><img src=\"https://colab.research.google.com/assets/colab-badge.svg\" alt=\"Open In Colab\"/></a>"
      ]
    },
    {
      "cell_type": "markdown",
      "metadata": {
        "id": "lEqUGG1NDsc8",
        "colab_type": "text"
      },
      "source": [
        " # Problema de la Mochila\n",
        " \n",
        " El problema de la mochila surge en areas de investigacion de operaciones en las cuales se requiere alojar un numero de items con el maximo valor bajo ciertas restricciones. Si hacemos $X=\\{x_1,\\ldots,x_n\\}$ un conjunto de items, con $x_i \\in \\{0,1\\}$ siendo una variable binaria que indica la presencia del item $i$, $W=\\{w_1,\\ldots,w_n\\}$ los pesos de los items y $V=\\{v_1,\\ldots,v_n\\}$ el valor asociado a cada uno de los items, el problema de optimizacion puede ser escrito como:\n",
        " \n",
        " $F(X)=\\operatorname{max}\\sum_i x_i*v_i$\n",
        "  \n",
        "  Dado \n",
        "  \n",
        " $\\sum_i x_i*w_i < W_{max}$\n",
        "  "
      ]
    },
    {
      "cell_type": "code",
      "metadata": {
        "id": "iFmKXnXCDsc9",
        "colab_type": "code",
        "colab": {}
      },
      "source": [
        "from itertools import chain, combinations\n",
        "\n",
        "def powerset(iterable):\n",
        "    \"powerset([1,2,3]) --> () (1,) (2,) (3,) (1,2) (1,3) (2,3) (1,2,3)\"\n",
        "    s = list(iterable)\n",
        "    return chain.from_iterable(combinations(s, r) for r in range(len(s)+1))"
      ],
      "execution_count": 0,
      "outputs": []
    },
    {
      "cell_type": "code",
      "metadata": {
        "id": "ZE4zF_QRDsdB",
        "colab_type": "code",
        "outputId": "f6f6fac3-baa8-4be9-f82c-b28594cd0cd1",
        "colab": {
          "base_uri": "https://localhost:8080/",
          "height": 605
        }
      },
      "source": [
        "import random\n",
        "import numpy as np\n",
        "\n",
        "n=5\n",
        "W = [random.randint(20, 1000) for _ in range(n)]  # peso\n",
        "V  = [random.randint(10, 800) for _ in range(n)] # valor\n",
        "W_max=1000\n",
        "print('pesos : ',W)\n",
        "print('valores : ',V)\n",
        "print('------------------------------')\n",
        "for i,p in enumerate(powerset(range(n))):\n",
        "    print('Mochila {0}, items : {1}, valor : {2}, peso : {3}'.format(\n",
        "            i,p,np.sum([V[i] for i in p]),np.sum([W[i] for i in p])))"
      ],
      "execution_count": 2,
      "outputs": [
        {
          "output_type": "stream",
          "text": [
            "pesos :  [237, 408, 549, 814, 676]\n",
            "valores :  [124, 738, 114, 489, 446]\n",
            "------------------------------\n",
            "Mochila 0, items : (), valor : 0.0, peso : 0.0\n",
            "Mochila 1, items : (0,), valor : 124, peso : 237\n",
            "Mochila 2, items : (1,), valor : 738, peso : 408\n",
            "Mochila 3, items : (2,), valor : 114, peso : 549\n",
            "Mochila 4, items : (3,), valor : 489, peso : 814\n",
            "Mochila 5, items : (4,), valor : 446, peso : 676\n",
            "Mochila 6, items : (0, 1), valor : 862, peso : 645\n",
            "Mochila 7, items : (0, 2), valor : 238, peso : 786\n",
            "Mochila 8, items : (0, 3), valor : 613, peso : 1051\n",
            "Mochila 9, items : (0, 4), valor : 570, peso : 913\n",
            "Mochila 10, items : (1, 2), valor : 852, peso : 957\n",
            "Mochila 11, items : (1, 3), valor : 1227, peso : 1222\n",
            "Mochila 12, items : (1, 4), valor : 1184, peso : 1084\n",
            "Mochila 13, items : (2, 3), valor : 603, peso : 1363\n",
            "Mochila 14, items : (2, 4), valor : 560, peso : 1225\n",
            "Mochila 15, items : (3, 4), valor : 935, peso : 1490\n",
            "Mochila 16, items : (0, 1, 2), valor : 976, peso : 1194\n",
            "Mochila 17, items : (0, 1, 3), valor : 1351, peso : 1459\n",
            "Mochila 18, items : (0, 1, 4), valor : 1308, peso : 1321\n",
            "Mochila 19, items : (0, 2, 3), valor : 727, peso : 1600\n",
            "Mochila 20, items : (0, 2, 4), valor : 684, peso : 1462\n",
            "Mochila 21, items : (0, 3, 4), valor : 1059, peso : 1727\n",
            "Mochila 22, items : (1, 2, 3), valor : 1341, peso : 1771\n",
            "Mochila 23, items : (1, 2, 4), valor : 1298, peso : 1633\n",
            "Mochila 24, items : (1, 3, 4), valor : 1673, peso : 1898\n",
            "Mochila 25, items : (2, 3, 4), valor : 1049, peso : 2039\n",
            "Mochila 26, items : (0, 1, 2, 3), valor : 1465, peso : 2008\n",
            "Mochila 27, items : (0, 1, 2, 4), valor : 1422, peso : 1870\n",
            "Mochila 28, items : (0, 1, 3, 4), valor : 1797, peso : 2135\n",
            "Mochila 29, items : (0, 2, 3, 4), valor : 1173, peso : 2276\n",
            "Mochila 30, items : (1, 2, 3, 4), valor : 1787, peso : 2447\n",
            "Mochila 31, items : (0, 1, 2, 3, 4), valor : 1911, peso : 2684\n"
          ],
          "name": "stdout"
        }
      ]
    },
    {
      "cell_type": "code",
      "metadata": {
        "id": "YTgAbbBtDsdG",
        "colab_type": "code",
        "colab": {}
      },
      "source": [
        "# A Dynamic Programming based Python Program for 0-1 Knapsack problem \n",
        "# Returns the maximum value that can be put in a knapsack of capacity W \n",
        "def knapsack(W_max, W, V, n): \n",
        "    C = [[0 for x in range(W_max+1)] for x in range(n+1)] \n",
        "    # Build table in bottom up manner \n",
        "    for i in range(n+1): \n",
        "        for w in range(W_max+1): \n",
        "            if i==0 or w==0: \n",
        "                C[i][w] = 0\n",
        "            elif W[i-1] <= w: \n",
        "                C[i][w] = max(V[i-1] + C[i-1][w-W[i-1]],  C[i-1][w]) \n",
        "            else: \n",
        "                C[i][w] = C[i-1][w] \n",
        "  \n",
        "    return C "
      ],
      "execution_count": 0,
      "outputs": []
    },
    {
      "cell_type": "code",
      "metadata": {
        "id": "kEzTFEX2DsdJ",
        "colab_type": "code",
        "colab": {}
      },
      "source": [
        "def knapsack_greedy(W, wt, val, n):\n",
        "    # elements in the knapsack (the order must be consequent)\n",
        "    v_in_knapsack = []\n",
        "    w_in_knapsack = []\n",
        "    # current weight of all the elements put in the knapsack so far\n",
        "    weight_in_knapsack = 0\n",
        "    # sort elements by purity in descendant order\n",
        "    for v_i,w_i in sorted(zip(val,wt),key=lambda x:x[0]/x[1] if x[1]!=0 else x[0], reverse=True):\n",
        "        if w_i + weight_in_knapsack <= W:  # if I can carry it,\n",
        "            v_in_knapsack.append(v_i)\n",
        "            w_in_knapsack.append(w_i)\n",
        "            weight_in_knapsack += w_i\n",
        "\n",
        "    return v_in_knapsack, w_in_knapsack"
      ],
      "execution_count": 0,
      "outputs": []
    },
    {
      "cell_type": "code",
      "metadata": {
        "id": "mSHY2iRxDsdN",
        "colab_type": "code",
        "outputId": "e7109dc0-9cf4-49ac-f6db-627a27601094",
        "colab": {
          "base_uri": "https://localhost:8080/",
          "height": 84
        }
      },
      "source": [
        "# Example from Grokking Algorithms. p161\n",
        "import numpy as np\n",
        "\n",
        "values = [1500,3000,2000]\n",
        "weights = [[1,4,3]]\n",
        "capacities = [4]\n",
        "\n",
        "C=knapsack(capacities[0],weights[0],values,len(values))\n",
        "\n",
        "print(np.asarray(C))"
      ],
      "execution_count": 5,
      "outputs": [
        {
          "output_type": "stream",
          "text": [
            "[[   0    0    0    0    0]\n",
            " [   0 1500 1500 1500 1500]\n",
            " [   0 1500 1500 1500 3000]\n",
            " [   0 1500 1500 2000 3500]]\n"
          ],
          "name": "stdout"
        }
      ]
    },
    {
      "cell_type": "code",
      "metadata": {
        "id": "33o7Y6esDsdQ",
        "colab_type": "code",
        "outputId": "72510087-2466-4f36-bdb6-c69af825941c",
        "colab": {
          "base_uri": "https://localhost:8080/",
          "height": 50
        }
      },
      "source": [
        "v_c,w_c=knapsack_greedy(capacities[0],weights[0],values,len(values))\n",
        "\n",
        "print(v_c)\n",
        "print(w_c)"
      ],
      "execution_count": 6,
      "outputs": [
        {
          "output_type": "stream",
          "text": [
            "[1500, 2000]\n",
            "[1, 3]\n"
          ],
          "name": "stdout"
        }
      ]
    },
    {
      "cell_type": "code",
      "metadata": {
        "id": "2AJlNKTNDsdS",
        "colab_type": "code",
        "colab": {}
      },
      "source": [
        "# Example from https://developers.google.com/optimization/bin/knapsack\n",
        "\n",
        "values = [\n",
        "    360, 83, 59, 130, 431, 67, 230, 52, 93, 125, 670, 892, 600, 38, 48, 147,\n",
        "    78, 256, 63, 17, 120, 164, 432, 35, 92, 110, 22, 42, 50, 323, 514, 28,\n",
        "    87, 73, 78, 15, 26, 78, 210, 36, 85, 189, 274, 43, 33, 10, 19, 389, 276,\n",
        "    312\n",
        "]\n",
        "weights = [[\n",
        "    7, 0, 30, 22, 80, 94, 11, 81, 70, 64, 59, 18, 0, 36, 3, 8, 15, 42, 9, 0,\n",
        "    42, 47, 52, 32, 26, 48, 55, 6, 29, 84, 2, 4, 18, 56, 7, 29, 93, 44, 71,\n",
        "    3, 86, 66, 31, 65, 0, 79, 20, 65, 52, 13\n",
        "]]\n",
        "capacities = [850]\n",
        "\n",
        "#C=knapsack(capacities[0],weights[0],values,len(values))\n",
        "#print('Total value = {0}'.format(C[-1][-1]))\n",
        "#print('Total weight = {0}'.format(len(C[0])-1))"
      ],
      "execution_count": 0,
      "outputs": []
    },
    {
      "cell_type": "code",
      "metadata": {
        "id": "TJCutmerDsdW",
        "colab_type": "code",
        "outputId": "ae544cad-a2ab-4b39-8625-edd3f6712731",
        "colab": {
          "base_uri": "https://localhost:8080/",
          "height": 50
        }
      },
      "source": [
        "import numpy as np\n",
        "\n",
        "v_c,w_c=knapsack_greedy(capacities[0],weights[0],values,len(values))\n",
        "\n",
        "print('Total value = ',np.sum(v_c))\n",
        "print('Total weight = ',np.sum(w_c))"
      ],
      "execution_count": 8,
      "outputs": [
        {
          "output_type": "stream",
          "text": [
            "Total value =  7534\n",
            "Total weight =  850\n"
          ],
          "name": "stdout"
        }
      ]
    },
    {
      "cell_type": "markdown",
      "metadata": {
        "id": "VkFZGapYM4X-",
        "colab_type": "text"
      },
      "source": [
        "Solución Tarea 2, punto 1.2(3 en la guía)"
      ]
    },
    {
      "cell_type": "code",
      "metadata": {
        "id": "vkBy1athM9ps",
        "colab_type": "code",
        "colab": {}
      },
      "source": [
        "import time\n",
        "import pandas\n",
        "import IPython"
      ],
      "execution_count": 0,
      "outputs": []
    },
    {
      "cell_type": "code",
      "metadata": {
        "id": "rCUCIBABNVh1",
        "colab_type": "code",
        "colab": {}
      },
      "source": [
        "def obtener_tiempo(method, capacidad, pesos, values, n):\n",
        "  if( method=='knapsack' ):\n",
        "    t = time.clock()\n",
        "    C = knapsack(capacidad,pesos, values, n)\n",
        "    t = time.clock() - t\n",
        "  elif (method == 'knapsack_greedy'):\n",
        "    t = time.clock()\n",
        "    C = knapsack_greedy(capacidad,pesos, values, n)\n",
        "    t = time.clock() - t\n",
        "  else:\n",
        "    raise Exception('Metodo no soportado!')\n",
        "  return t"
      ],
      "execution_count": 0,
      "outputs": []
    },
    {
      "cell_type": "code",
      "metadata": {
        "id": "pnYRukq4QL8I",
        "colab_type": "code",
        "colab": {}
      },
      "source": [
        "class Tarea:\n",
        "  def __init__(self):\n",
        "    # tiempos = { 'n' : { 'w':{'metodo1':t1 , 'metodo2':t2} } }\n",
        "    self._tiempos = { 100 : {}, 1000:{}, 5000:{} }\n",
        "  def obtener_tiempo_method(self, method, capacidad, pesos, values, n):\n",
        "    #Validaciones\n",
        "    if n not in self._tiempos.keys():\n",
        "      raise Exception('Dimension N no permitida')\n",
        "    if method not in [\"knapsack\", \"knapsack_greedy\"]:\n",
        "      raise Exception('Metodo no soportado!')\n",
        "    #Nuevos casos\n",
        "    if( capacidad not in self._tiempos[n].keys() ):\n",
        "      self._tiempos[n][capacidad] = {}\n",
        "\n",
        "    if( method in self._tiempos[n][capacidad].keys() ):#Tiempo ya fue calculado para estas dimensiones (n, w)\n",
        "      return\n",
        "\n",
        "    if( method=='knapsack' ):\n",
        "      t = time.clock()\n",
        "      C = knapsack(capacidad,pesos, values, n)\n",
        "      t = time.clock() - t\n",
        "    elif (method == 'knapsack_greedy'):\n",
        "      t = time.clock()\n",
        "      C = knapsack_greedy(capacidad,pesos, values, n)\n",
        "      t = time.clock() - t\n",
        "    self._tiempos[n][capacidad][method] = t\n",
        "  def obtener_tiempos_peso(self, n, W_max):\n",
        "    W = [random.randint(20, W_max) for _ in range(n)]  # peso\n",
        "    V  = [random.randint(10, 800) for _ in range(n)] # valor\n",
        "    self.obtener_tiempo_method('knapsack',W_max,W,V,len(V))\n",
        "    self.obtener_tiempo_method('knapsack_greedy',W_max,W,V,len(V))\n",
        "  def getTiempos(self):\n",
        "    return self._tiempos\n",
        "  "
      ],
      "execution_count": 0,
      "outputs": []
    },
    {
      "cell_type": "code",
      "metadata": {
        "id": "-vRCG6wVQ8Y4",
        "colab_type": "code",
        "colab": {}
      },
      "source": [
        "tar = Tarea()"
      ],
      "execution_count": 0,
      "outputs": []
    },
    {
      "cell_type": "code",
      "metadata": {
        "id": "c4CDsrMpRF-4",
        "colab_type": "code",
        "colab": {}
      },
      "source": [
        "#tar.obtener_tiempos_peso(n, w)\n",
        "N = [100, 1000, 5000]\n",
        "W = [100,1000, 5000,50000]\n",
        "for n in N:\n",
        "  for w in W:\n",
        "    tar.obtener_tiempos_peso(n, w)"
      ],
      "execution_count": 0,
      "outputs": []
    },
    {
      "cell_type": "code",
      "metadata": {
        "id": "98R5lw2VZRkI",
        "colab_type": "code",
        "outputId": "18c53161-6b95-4cd5-8ed0-20be5ead3817",
        "colab": {
          "base_uri": "https://localhost:8080/",
          "height": 437
        }
      },
      "source": [
        "tiempos = tar.getTiempos()\n",
        "for n, W in tiempos.items():\n",
        "  print(\"\\n\\nN:\"+str(n))\n",
        "  table_data = {}\n",
        "  for w, data in W.items():\n",
        "    table_data.update({\"W_Max:\"+str(w): [data['knapsack'],data['knapsack_greedy']] })\n",
        "  table_frame = pandas.DataFrame(table_data, index = [\"knapsack\",\"knapsack_greedy\"])\n",
        "  IPython.display.display(table_frame)\n"
      ],
      "execution_count": 19,
      "outputs": [
        {
          "output_type": "stream",
          "text": [
            "\n",
            "\n",
            "N:100\n"
          ],
          "name": "stdout"
        },
        {
          "output_type": "display_data",
          "data": {
            "text/html": [
              "<div>\n",
              "<style scoped>\n",
              "    .dataframe tbody tr th:only-of-type {\n",
              "        vertical-align: middle;\n",
              "    }\n",
              "\n",
              "    .dataframe tbody tr th {\n",
              "        vertical-align: top;\n",
              "    }\n",
              "\n",
              "    .dataframe thead th {\n",
              "        text-align: right;\n",
              "    }\n",
              "</style>\n",
              "<table border=\"1\" class=\"dataframe\">\n",
              "  <thead>\n",
              "    <tr style=\"text-align: right;\">\n",
              "      <th></th>\n",
              "      <th>W_Max:100</th>\n",
              "      <th>W_Max:1000</th>\n",
              "      <th>W_Max:5000</th>\n",
              "      <th>W_Max:10000</th>\n",
              "      <th>W_Max:50000</th>\n",
              "    </tr>\n",
              "  </thead>\n",
              "  <tbody>\n",
              "    <tr>\n",
              "      <th>knapsack</th>\n",
              "      <td>0.005778</td>\n",
              "      <td>0.034739</td>\n",
              "      <td>0.181776</td>\n",
              "      <td>0.388696</td>\n",
              "      <td>1.780958</td>\n",
              "    </tr>\n",
              "    <tr>\n",
              "      <th>knapsack_greedy</th>\n",
              "      <td>0.000100</td>\n",
              "      <td>0.000078</td>\n",
              "      <td>0.000087</td>\n",
              "      <td>0.000109</td>\n",
              "      <td>0.000109</td>\n",
              "    </tr>\n",
              "  </tbody>\n",
              "</table>\n",
              "</div>"
            ],
            "text/plain": [
              "                 W_Max:100  W_Max:1000  W_Max:5000  W_Max:10000  W_Max:50000\n",
              "knapsack          0.005778    0.034739    0.181776     0.388696     1.780958\n",
              "knapsack_greedy   0.000100    0.000078    0.000087     0.000109     0.000109"
            ]
          },
          "metadata": {
            "tags": []
          }
        },
        {
          "output_type": "stream",
          "text": [
            "\n",
            "\n",
            "N:1000\n"
          ],
          "name": "stdout"
        },
        {
          "output_type": "display_data",
          "data": {
            "text/html": [
              "<div>\n",
              "<style scoped>\n",
              "    .dataframe tbody tr th:only-of-type {\n",
              "        vertical-align: middle;\n",
              "    }\n",
              "\n",
              "    .dataframe tbody tr th {\n",
              "        vertical-align: top;\n",
              "    }\n",
              "\n",
              "    .dataframe thead th {\n",
              "        text-align: right;\n",
              "    }\n",
              "</style>\n",
              "<table border=\"1\" class=\"dataframe\">\n",
              "  <thead>\n",
              "    <tr style=\"text-align: right;\">\n",
              "      <th></th>\n",
              "      <th>W_Max:100</th>\n",
              "      <th>W_Max:1000</th>\n",
              "      <th>W_Max:5000</th>\n",
              "      <th>W_Max:10000</th>\n",
              "      <th>W_Max:50000</th>\n",
              "    </tr>\n",
              "  </thead>\n",
              "  <tbody>\n",
              "    <tr>\n",
              "      <th>knapsack</th>\n",
              "      <td>0.035079</td>\n",
              "      <td>0.389766</td>\n",
              "      <td>1.999228</td>\n",
              "      <td>3.883506</td>\n",
              "      <td>19.496846</td>\n",
              "    </tr>\n",
              "    <tr>\n",
              "      <th>knapsack_greedy</th>\n",
              "      <td>0.000573</td>\n",
              "      <td>0.000580</td>\n",
              "      <td>0.000822</td>\n",
              "      <td>0.000645</td>\n",
              "      <td>0.000614</td>\n",
              "    </tr>\n",
              "  </tbody>\n",
              "</table>\n",
              "</div>"
            ],
            "text/plain": [
              "                 W_Max:100  W_Max:1000  W_Max:5000  W_Max:10000  W_Max:50000\n",
              "knapsack          0.035079    0.389766    1.999228     3.883506    19.496846\n",
              "knapsack_greedy   0.000573    0.000580    0.000822     0.000645     0.000614"
            ]
          },
          "metadata": {
            "tags": []
          }
        },
        {
          "output_type": "stream",
          "text": [
            "\n",
            "\n",
            "N:5000\n"
          ],
          "name": "stdout"
        },
        {
          "output_type": "display_data",
          "data": {
            "text/html": [
              "<div>\n",
              "<style scoped>\n",
              "    .dataframe tbody tr th:only-of-type {\n",
              "        vertical-align: middle;\n",
              "    }\n",
              "\n",
              "    .dataframe tbody tr th {\n",
              "        vertical-align: top;\n",
              "    }\n",
              "\n",
              "    .dataframe thead th {\n",
              "        text-align: right;\n",
              "    }\n",
              "</style>\n",
              "<table border=\"1\" class=\"dataframe\">\n",
              "  <thead>\n",
              "    <tr style=\"text-align: right;\">\n",
              "      <th></th>\n",
              "      <th>W_Max:100</th>\n",
              "      <th>W_Max:1000</th>\n",
              "      <th>W_Max:5000</th>\n",
              "      <th>W_Max:10000</th>\n",
              "      <th>W_Max:50000</th>\n",
              "    </tr>\n",
              "  </thead>\n",
              "  <tbody>\n",
              "    <tr>\n",
              "      <th>knapsack</th>\n",
              "      <td>0.178674</td>\n",
              "      <td>1.971682</td>\n",
              "      <td>10.126758</td>\n",
              "      <td>20.488218</td>\n",
              "      <td>102.409223</td>\n",
              "    </tr>\n",
              "    <tr>\n",
              "      <th>knapsack_greedy</th>\n",
              "      <td>0.002905</td>\n",
              "      <td>0.003203</td>\n",
              "      <td>0.003199</td>\n",
              "      <td>0.003281</td>\n",
              "      <td>0.003801</td>\n",
              "    </tr>\n",
              "  </tbody>\n",
              "</table>\n",
              "</div>"
            ],
            "text/plain": [
              "                 W_Max:100  W_Max:1000  W_Max:5000  W_Max:10000  W_Max:50000\n",
              "knapsack          0.178674    1.971682   10.126758    20.488218   102.409223\n",
              "knapsack_greedy   0.002905    0.003203    0.003199     0.003281     0.003801"
            ]
          },
          "metadata": {
            "tags": []
          }
        }
      ]
    }
  ]
}