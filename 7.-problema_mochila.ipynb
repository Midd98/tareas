{
  "nbformat": 4,
  "nbformat_minor": 0,
  "metadata": {
    "kernelspec": {
      "display_name": "Python 3",
      "language": "python",
      "name": "python3"
    },
    "language_info": {
      "codemirror_mode": {
        "name": "ipython",
        "version": 3
      },
      "file_extension": ".py",
      "mimetype": "text/x-python",
      "name": "python",
      "nbconvert_exporter": "python",
      "pygments_lexer": "ipython3",
      "version": "3.6.9"
    },
    "colab": {
      "name": "7.-problema_mochila.ipynb",
      "provenance": [],
      "include_colab_link": true
    }
  },
  "cells": [
    {
      "cell_type": "markdown",
      "metadata": {
        "id": "view-in-github",
        "colab_type": "text"
      },
      "source": [
        "<a href=\"https://colab.research.google.com/github/Midd98/tareas/blob/master/7.-problema_mochila.ipynb\" target=\"_parent\"><img src=\"https://colab.research.google.com/assets/colab-badge.svg\" alt=\"Open In Colab\"/></a>"
      ]
    },
    {
      "cell_type": "markdown",
      "metadata": {
        "id": "lEqUGG1NDsc8",
        "colab_type": "text"
      },
      "source": [
        " # Problema de la Mochila\n",
        " \n",
        " El problema de la mochila surge en areas de investigacion de operaciones en las cuales se requiere alojar un numero de items con el maximo valor bajo ciertas restricciones. Si hacemos $X=\\{x_1,\\ldots,x_n\\}$ un conjunto de items, con $x_i \\in \\{0,1\\}$ siendo una variable binaria que indica la presencia del item $i$, $W=\\{w_1,\\ldots,w_n\\}$ los pesos de los items y $V=\\{v_1,\\ldots,v_n\\}$ el valor asociado a cada uno de los items, el problema de optimizacion puede ser escrito como:\n",
        " \n",
        " $F(X)=\\operatorname{max}\\sum_i x_i*v_i$\n",
        "  \n",
        "  Dado \n",
        "  \n",
        " $\\sum_i x_i*w_i < W_{max}$\n",
        "  "
      ]
    },
    {
      "cell_type": "code",
      "metadata": {
        "id": "iFmKXnXCDsc9",
        "colab_type": "code",
        "colab": {}
      },
      "source": [
        "from itertools import chain, combinations\n",
        "\n",
        "def powerset(iterable):\n",
        "    \"powerset([1,2,3]) --> () (1,) (2,) (3,) (1,2) (1,3) (2,3) (1,2,3)\"\n",
        "    s = list(iterable)\n",
        "    return chain.from_iterable(combinations(s, r) for r in range(len(s)+1))"
      ],
      "execution_count": 0,
      "outputs": []
    },
    {
      "cell_type": "code",
      "metadata": {
        "id": "ZE4zF_QRDsdB",
        "colab_type": "code",
        "colab": {
          "base_uri": "https://localhost:8080/",
          "height": 605
        },
        "outputId": "63e3059d-faef-4304-d8bb-1b96762fe013"
      },
      "source": [
        "import random\n",
        "import numpy as np\n",
        "\n",
        "n=5\n",
        "W = [random.randint(20, 1000) for _ in range(n)]  # peso\n",
        "V  = [random.randint(10, 800) for _ in range(n)] # valor\n",
        "W_max=1000\n",
        "print('pesos : ',W)\n",
        "print('valores : ',V)\n",
        "print('------------------------------')\n",
        "for i,p in enumerate(powerset(range(n))):\n",
        "    print('Mochila {0}, items : {1}, valor : {2}, peso : {3}'.format(\n",
        "            i,p,np.sum([V[i] for i in p]),np.sum([W[i] for i in p])))"
      ],
      "execution_count": 10,
      "outputs": [
        {
          "output_type": "stream",
          "text": [
            "pesos :  [721, 726, 514, 178, 957]\n",
            "valores :  [354, 419, 412, 56, 420]\n",
            "------------------------------\n",
            "Mochila 0, items : (), valor : 0.0, peso : 0.0\n",
            "Mochila 1, items : (0,), valor : 354, peso : 721\n",
            "Mochila 2, items : (1,), valor : 419, peso : 726\n",
            "Mochila 3, items : (2,), valor : 412, peso : 514\n",
            "Mochila 4, items : (3,), valor : 56, peso : 178\n",
            "Mochila 5, items : (4,), valor : 420, peso : 957\n",
            "Mochila 6, items : (0, 1), valor : 773, peso : 1447\n",
            "Mochila 7, items : (0, 2), valor : 766, peso : 1235\n",
            "Mochila 8, items : (0, 3), valor : 410, peso : 899\n",
            "Mochila 9, items : (0, 4), valor : 774, peso : 1678\n",
            "Mochila 10, items : (1, 2), valor : 831, peso : 1240\n",
            "Mochila 11, items : (1, 3), valor : 475, peso : 904\n",
            "Mochila 12, items : (1, 4), valor : 839, peso : 1683\n",
            "Mochila 13, items : (2, 3), valor : 468, peso : 692\n",
            "Mochila 14, items : (2, 4), valor : 832, peso : 1471\n",
            "Mochila 15, items : (3, 4), valor : 476, peso : 1135\n",
            "Mochila 16, items : (0, 1, 2), valor : 1185, peso : 1961\n",
            "Mochila 17, items : (0, 1, 3), valor : 829, peso : 1625\n",
            "Mochila 18, items : (0, 1, 4), valor : 1193, peso : 2404\n",
            "Mochila 19, items : (0, 2, 3), valor : 822, peso : 1413\n",
            "Mochila 20, items : (0, 2, 4), valor : 1186, peso : 2192\n",
            "Mochila 21, items : (0, 3, 4), valor : 830, peso : 1856\n",
            "Mochila 22, items : (1, 2, 3), valor : 887, peso : 1418\n",
            "Mochila 23, items : (1, 2, 4), valor : 1251, peso : 2197\n",
            "Mochila 24, items : (1, 3, 4), valor : 895, peso : 1861\n",
            "Mochila 25, items : (2, 3, 4), valor : 888, peso : 1649\n",
            "Mochila 26, items : (0, 1, 2, 3), valor : 1241, peso : 2139\n",
            "Mochila 27, items : (0, 1, 2, 4), valor : 1605, peso : 2918\n",
            "Mochila 28, items : (0, 1, 3, 4), valor : 1249, peso : 2582\n",
            "Mochila 29, items : (0, 2, 3, 4), valor : 1242, peso : 2370\n",
            "Mochila 30, items : (1, 2, 3, 4), valor : 1307, peso : 2375\n",
            "Mochila 31, items : (0, 1, 2, 3, 4), valor : 1661, peso : 3096\n"
          ],
          "name": "stdout"
        }
      ]
    },
    {
      "cell_type": "code",
      "metadata": {
        "id": "YTgAbbBtDsdG",
        "colab_type": "code",
        "colab": {}
      },
      "source": [
        "# A Dynamic Programming based Python Program for 0-1 Knapsack problem \n",
        "# Returns the maximum value that can be put in a knapsack of capacity W \n",
        "def knapsack(W_max, W, V, n): \n",
        "    C = [[0 for x in range(W_max+1)] for x in range(n+1)] \n",
        "    # Build table in bottom up manner \n",
        "    for i in range(n+1): \n",
        "        for w in range(W_max+1): \n",
        "            if i==0 or w==0: \n",
        "                C[i][w] = 0\n",
        "            elif W[i-1] <= w: \n",
        "                C[i][w] = max(V[i-1] + C[i-1][w-W[i-1]],  C[i-1][w]) \n",
        "            else: \n",
        "                C[i][w] = C[i-1][w] \n",
        "  \n",
        "    return C "
      ],
      "execution_count": 0,
      "outputs": []
    },
    {
      "cell_type": "code",
      "metadata": {
        "id": "kEzTFEX2DsdJ",
        "colab_type": "code",
        "colab": {}
      },
      "source": [
        "def knapsack_greedy(W, wt, val, n):\n",
        "    # elements in the knapsack (the order must be consequent)\n",
        "    v_in_knapsack = []\n",
        "    w_in_knapsack = []\n",
        "    # current weight of all the elements put in the knapsack so far\n",
        "    weight_in_knapsack = 0\n",
        "    # sort elements by purity in descendant order\n",
        "    for v_i,w_i in sorted(zip(val,wt),key=lambda x:x[0]/x[1] if x[1]!=0 else x[0], reverse=True):\n",
        "        if w_i + weight_in_knapsack <= W:  # if I can carry it,\n",
        "            v_in_knapsack.append(v_i)\n",
        "            w_in_knapsack.append(w_i)\n",
        "            weight_in_knapsack += w_i\n",
        "\n",
        "    return v_in_knapsack, w_in_knapsack"
      ],
      "execution_count": 0,
      "outputs": []
    },
    {
      "cell_type": "code",
      "metadata": {
        "id": "mSHY2iRxDsdN",
        "colab_type": "code",
        "colab": {
          "base_uri": "https://localhost:8080/",
          "height": 84
        },
        "outputId": "b6c59a80-b70e-468f-963f-3babbb5d49bf"
      },
      "source": [
        "# Example from Grokking Algorithms. p161\n",
        "import numpy as np\n",
        "\n",
        "values = [1500,3000,2000]\n",
        "weights = [[1,4,3]]\n",
        "capacities = [4]\n",
        "\n",
        "C=knapsack(capacities[0],weights[0],values,len(values))\n",
        "\n",
        "print(np.asarray(C))"
      ],
      "execution_count": 6,
      "outputs": [
        {
          "output_type": "stream",
          "text": [
            "[[   0    0    0    0    0]\n",
            " [   0 1500 1500 1500 1500]\n",
            " [   0 1500 1500 1500 3000]\n",
            " [   0 1500 1500 2000 3500]]\n"
          ],
          "name": "stdout"
        }
      ]
    },
    {
      "cell_type": "code",
      "metadata": {
        "id": "33o7Y6esDsdQ",
        "colab_type": "code",
        "colab": {
          "base_uri": "https://localhost:8080/",
          "height": 50
        },
        "outputId": "71931592-97ef-4fc4-a668-385be19192c3"
      },
      "source": [
        "v_c,w_c=knapsack_greedy(capacities[0],weights[0],values,len(values))\n",
        "\n",
        "print(v_c)\n",
        "print(w_c)"
      ],
      "execution_count": 7,
      "outputs": [
        {
          "output_type": "stream",
          "text": [
            "[1500, 2000]\n",
            "[1, 3]\n"
          ],
          "name": "stdout"
        }
      ]
    },
    {
      "cell_type": "code",
      "metadata": {
        "id": "2AJlNKTNDsdS",
        "colab_type": "code",
        "colab": {
          "base_uri": "https://localhost:8080/",
          "height": 50
        },
        "outputId": "a6dfc337-f857-425a-e1bd-33f4340e0c1c"
      },
      "source": [
        "# Example from https://developers.google.com/optimization/bin/knapsack\n",
        "\n",
        "values = [\n",
        "    360, 83, 59, 130, 431, 67, 230, 52, 93, 125, 670, 892, 600, 38, 48, 147,\n",
        "    78, 256, 63, 17, 120, 164, 432, 35, 92, 110, 22, 42, 50, 323, 514, 28,\n",
        "    87, 73, 78, 15, 26, 78, 210, 36, 85, 189, 274, 43, 33, 10, 19, 389, 276,\n",
        "    312\n",
        "]\n",
        "weights = [[\n",
        "    7, 0, 30, 22, 80, 94, 11, 81, 70, 64, 59, 18, 0, 36, 3, 8, 15, 42, 9, 0,\n",
        "    42, 47, 52, 32, 26, 48, 55, 6, 29, 84, 2, 4, 18, 56, 7, 29, 93, 44, 71,\n",
        "    3, 86, 66, 31, 65, 0, 79, 20, 65, 52, 13\n",
        "]]\n",
        "capacities = [850]\n",
        "\n",
        "C=knapsack(capacities[0],weights[0],values,len(values))\n",
        "print('Total value = {0}'.format(C[-1][-1]))\n",
        "print('Total weight = {0}'.format(len(C[0])-1))"
      ],
      "execution_count": 8,
      "outputs": [
        {
          "output_type": "stream",
          "text": [
            "Total value = 7534\n",
            "Total weight = 850\n"
          ],
          "name": "stdout"
        }
      ]
    },
    {
      "cell_type": "code",
      "metadata": {
        "id": "TJCutmerDsdW",
        "colab_type": "code",
        "colab": {
          "base_uri": "https://localhost:8080/",
          "height": 50
        },
        "outputId": "797588c2-d0f8-4574-993e-ebff635d65c5"
      },
      "source": [
        "import numpy as np\n",
        "\n",
        "v_c,w_c=knapsack_greedy(capacities[0],weights[0],values,len(values))\n",
        "\n",
        "print('Total value = ',np.sum(v_c))\n",
        "print('Total weight = ',np.sum(w_c))"
      ],
      "execution_count": 9,
      "outputs": [
        {
          "output_type": "stream",
          "text": [
            "Total value =  7534\n",
            "Total weight =  850\n"
          ],
          "name": "stdout"
        }
      ]
    },
    {
      "cell_type": "markdown",
      "metadata": {
        "id": "VkFZGapYM4X-",
        "colab_type": "text"
      },
      "source": [
        "Solución Tarea 2, punto 1.2(3 en la guía)"
      ]
    },
    {
      "cell_type": "code",
      "metadata": {
        "id": "vkBy1athM9ps",
        "colab_type": "code",
        "colab": {}
      },
      "source": [
        "import time\n",
        "import pandas\n",
        "import IPython"
      ],
      "execution_count": 0,
      "outputs": []
    },
    {
      "cell_type": "code",
      "metadata": {
        "id": "rCUCIBABNVh1",
        "colab_type": "code",
        "colab": {}
      },
      "source": [
        "def obtener_tiempo(method, capacidad, pesos, values, n):\n",
        "  if( method=='knapsack' ):\n",
        "    t = time.clock()\n",
        "    C = knapsack(capacidad,pesos, values, n)\n",
        "    t = time.clock() - t\n",
        "  elif (method == 'knapsack_greedy'):\n",
        "    t = time.clock()\n",
        "    C = knapsack_greedy(capacidad,pesos, values, n)\n",
        "    t = time.clock() - t\n",
        "  else:\n",
        "    raise Exception('Metodo no soportado!')\n",
        "  return t"
      ],
      "execution_count": 0,
      "outputs": []
    },
    {
      "cell_type": "code",
      "metadata": {
        "id": "RkVn3Sk3N856",
        "colab_type": "code",
        "colab": {
          "base_uri": "https://localhost:8080/",
          "height": 34
        },
        "outputId": "d724fe71-48e5-4602-eb13-170a8b293684"
      },
      "source": [
        "## Prueba de que obtiene el tiempo\n",
        "\n"
      ],
      "execution_count": 17,
      "outputs": [
        {
          "output_type": "stream",
          "text": [
            "6.000000000039307e-05\n"
          ],
          "name": "stdout"
        }
      ]
    },
    {
      "cell_type": "code",
      "metadata": {
        "id": "r3AFDFuyPt_I",
        "colab_type": "code",
        "colab": {}
      },
      "source": [
        "\n",
        "tiempos = { 100 : {}, 1000:{}, 5000:{} }"
      ],
      "execution_count": 0,
      "outputs": []
    },
    {
      "cell_type": "code",
      "metadata": {
        "id": "pnYRukq4QL8I",
        "colab_type": "code",
        "colab": {}
      },
      "source": [
        "class Tarea:\n",
        "  def __init__(this):\n",
        "    # tiempos = { 'n' : { 'w':{'metodo1':t1 , 'metodo2':t2} } }\n",
        "    this._tiempos = { 100 : {}, 1000:{}, 5000:{} }\n",
        "  def obtener_tiempo(method, capacidad, pesos, values, n):\n",
        "    if( method=='knapsack' ):\n",
        "      t = time.clock()\n",
        "      C = knapsack(capacidad,pesos, values, n)\n",
        "      t = time.clock() - t\n",
        "    elif (method == 'knapsack_greedy'):\n",
        "      t = time.clock()\n",
        "      C = knapsack_greedy(capacidad,pesos, values, n)\n",
        "      t = time.clock() - t\n",
        "    else:\n",
        "      raise Exception('Metodo no soportado!')\n",
        "    print(self._tiempos[n])\n",
        "    print(t)\n",
        "  def getTiempos(this):\n",
        "    return this._tiempos\n",
        "  "
      ],
      "execution_count": 0,
      "outputs": []
    },
    {
      "cell_type": "code",
      "metadata": {
        "id": "-vRCG6wVQ8Y4",
        "colab_type": "code",
        "colab": {}
      },
      "source": [
        "tar = Tarea()"
      ],
      "execution_count": 0,
      "outputs": []
    },
    {
      "cell_type": "code",
      "metadata": {
        "id": "c4CDsrMpRF-4",
        "colab_type": "code",
        "colab": {
          "base_uri": "https://localhost:8080/",
          "height": 34
        },
        "outputId": "bc4bbee2-094f-444b-f5f5-471ba98a5fe2"
      },
      "source": [
        "tar.obtener_tiempo('knapsack_greedy',capacities[0],weights[0],values,len(values))\n"
      ],
      "execution_count": 24,
      "outputs": [
        {
          "output_type": "execute_result",
          "data": {
            "text/plain": [
              "{100: {}, 1000: {}, 5000: {}}"
            ]
          },
          "metadata": {
            "tags": []
          },
          "execution_count": 24
        }
      ]
    }
  ]
}