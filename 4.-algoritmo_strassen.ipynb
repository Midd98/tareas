{
  "nbformat": 4,
  "nbformat_minor": 0,
  "metadata": {
    "kernelspec": {
      "display_name": "Python 3",
      "language": "python",
      "name": "python3"
    },
    "language_info": {
      "codemirror_mode": {
        "name": "ipython",
        "version": 3
      },
      "file_extension": ".py",
      "mimetype": "text/x-python",
      "name": "python",
      "nbconvert_exporter": "python",
      "pygments_lexer": "ipython3",
      "version": "3.6.9"
    },
    "colab": {
      "name": "4.-algoritmo_strassen.ipynb",
      "provenance": [],
      "include_colab_link": true
    }
  },
  "cells": [
    {
      "cell_type": "markdown",
      "metadata": {
        "id": "view-in-github",
        "colab_type": "text"
      },
      "source": [
        "<a href=\"https://colab.research.google.com/github/Midd98/tareas/blob/master/4.-algoritmo_strassen.ipynb\" target=\"_parent\"><img src=\"https://colab.research.google.com/assets/colab-badge.svg\" alt=\"Open In Colab\"/></a>"
      ]
    },
    {
      "cell_type": "markdown",
      "metadata": {
        "id": "_1W5W62Jj8F7",
        "colab_type": "text"
      },
      "source": [
        "# Multiplicacion de matrices\n",
        "\n",
        "Sean $A$ y $B$ dos matrices de tamaño $n\\times n$. Ahora dividimos las matrices en submatrices $A_{i,j}$ y $B_{i,j}$ de tamaño $n/2 \\times n/2$ \n",
        "$$\t\n",
        "A = \\begin{pmatrix}\n",
        "    A_{1,1} & A_{1,2} \\\\\n",
        "    A_{2,1} & A_{2,2} \\\\\n",
        "    \\end{pmatrix}\n",
        "$$\n",
        "\n",
        "$$\n",
        "B = \\begin{pmatrix}\n",
        "\tB_{1,1} & B_{1,2} \\\\\n",
        "\tB_{2,1} & B_{2,2} \\\\\n",
        "\t\\end{pmatrix}\n",
        "$$\n",
        "    \n",
        "La multiplicaci\\'on de las dos matrices puede ser resuelto como:\n",
        "\n",
        "$$\n",
        "A  \\times B = \\begin{pmatrix}\n",
        "\tC_{1,1} & C_{1,2} \\\\\n",
        "\tC_{2,1} & C_{2,2} \\\\\n",
        "\t\\end{pmatrix}\n",
        "$$\n",
        "\n",
        "$$\n",
        "A =\\begin{pmatrix}\n",
        "\tA_{1,1} & A_{1,2} \\\\\n",
        "\tA_{2,1} & A_{2,2} \\\\\n",
        "\t\\end{pmatrix} \\times \\begin{pmatrix}\n",
        "\tB_{1,1} & B_{1,2} \\\\\n",
        "\tB_{2,1} & B_{2,2} \\\\\n",
        "\\end{pmatrix}\n",
        "$$\n",
        "\n",
        "$$\n",
        "C_{i,j}= \\sum_{k=1}^n A_{i,k} \\times B_{k,j}\n",
        "$$\n"
      ]
    },
    {
      "cell_type": "code",
      "metadata": {
        "id": "qV5NTZ4Rj8F8",
        "colab_type": "code",
        "colab": {}
      },
      "source": [
        "import numpy as np \n",
        "\n",
        "\n",
        "def default_matrix_multiplication(A, B):\n",
        "    if get_matrix_dimensions(A) != get_matrix_dimensions(B):\n",
        "        raise Exception(f'Both matrices are not the same dimension!')\n",
        "    n = A.shape[0]\n",
        "    C = [[0 for i in np.arange(n)] for j in np.arange(n)]\n",
        "    for i in np.arange(n):\n",
        "        for j in np.arange(n):\n",
        "            for k in np.arange(n):\n",
        "                C[i][j] += A[i,k] * B[k,j]\n",
        "    return np.matrix(C)"
      ],
      "execution_count": 0,
      "outputs": []
    },
    {
      "cell_type": "markdown",
      "metadata": {
        "id": "JHpsmyCsj8GC",
        "colab_type": "text"
      },
      "source": [
        "# Algoritmo Strassen\n",
        "\n",
        "El algoritmo Strassen es un metodo del tipo Divide y Vencer\\'as para resolver el problema de la multiplicacion de matrices cuadradas. El algoritmo Strassen calcula las siguientes operaciones:\n",
        "\n",
        "$$\n",
        "p_1 = (a_{11}) \\times (b_{12} - b_{22})\\\\\n",
        "p_2 = (a_{11} + a_{12}) \\times (b_{22})\\\\\n",
        "p_3 = (a_{21} + a_{22}) \\times (b_{11})\\\\         \n",
        "p_4 = (a_{22}) \\times (b_{21} - b_{11})\\\\         \n",
        "p_5 = (a{11} + a_{22}) \\times (b_{11} + b_{22})\\\\         \n",
        "p_6 = (a_{12} - a_{22}) \\times  (b_{21} + b_{22})\\\\   \n",
        "p_7 = (a{11} - a_{21}) \\times (b_{11} + b_{12})\n",
        "$$"
      ]
    },
    {
      "cell_type": "markdown",
      "metadata": {
        "id": "xOFkFXDJj8GC",
        "colab_type": "text"
      },
      "source": [
        "$$\n",
        "C_{1,1}=p_5+p_4 - p_2 +p_6\\\\\n",
        "C_{1,2}=p_1 + p_2\\\\\n",
        "C_{2,1}=p_3 + p_4\\\\\n",
        "C_{2,2}=p_1 + p_5 - p_3 +p_7\n",
        "$$"
      ]
    },
    {
      "cell_type": "markdown",
      "metadata": {
        "id": "0xgBeqIJj8GD",
        "colab_type": "text"
      },
      "source": [
        "El siguiente codigo implementa una version recursiva del algoritmo Strassen:"
      ]
    },
    {
      "cell_type": "code",
      "metadata": {
        "id": "FlOQY3Zgj8GH",
        "colab_type": "code",
        "colab": {}
      },
      "source": [
        "def split_matrix(A):\n",
        "    if A.shape[0] % 2 != 0 or A.shape[1] % 2 != 0:\n",
        "        raise Exception('Odd matrices are not supported!')\n",
        "    matrix_length = A.shape[0]\n",
        "    mid = matrix_length // 2\n",
        "    a11 = A[:mid,:mid]\n",
        "    a21 = A[mid:,:mid]\n",
        "    a22 = A[mid:,mid:]\n",
        "    a12 = A[:mid,mid:]\n",
        "    \n",
        "    return a11, a12, a21, a22\n",
        "\n",
        "def get_matrix_dimensions(matrix):\n",
        "    return matrix.shape\n",
        "\n",
        "def strassen(A,B,base_case=2): \n",
        "    # Base case when size of matrices is 1x1 \n",
        "    if get_matrix_dimensions(A) != get_matrix_dimensions(B):\n",
        "        raise Exception(f'Both matrices are not the same dimension!')\n",
        "    if get_matrix_dimensions(A) == (base_case, base_case):\n",
        "        return default_matrix_multiplication(A, B)\n",
        "\n",
        "    a11, a12, a21, a22 = split_matrix(A) \n",
        "    b11, b12, b21, b22 = split_matrix(B) \n",
        "  \n",
        "    p1 = strassen(a11, b12 - b22)   \n",
        "    p2 = strassen(a11 + a12, b22)         \n",
        "    p3 = strassen(a21 + a22, b11)         \n",
        "    p4 = strassen(a22, b21 - b11)         \n",
        "    p5 = strassen(a11 + a22, b11 + b22)         \n",
        "    p6 = strassen(a12 - a22, b21 + b22)   \n",
        "    p7 = strassen(a11 - a21, b11 + b12)   \n",
        "  \n",
        "    c11 = p5 + p4 - p2 + p6   \n",
        "    c12 = p1 + p2            \n",
        "    c21 = p3 + p4             \n",
        "    c22 = p1 + p5 - p3 - p7   \n",
        "  \n",
        "    C = np.vstack((np.hstack((c11, c12)), np.hstack((c21, c22))))  \n",
        "    return C "
      ],
      "execution_count": 0,
      "outputs": []
    },
    {
      "cell_type": "markdown",
      "metadata": {
        "id": "Mat34Lvjj8GL",
        "colab_type": "text"
      },
      "source": [
        "Los resultados de la implementacion iterativa y la version recursiva de los algoritmos de multiplicacion de matrices pueden ser comparados con los resutados de Numpy."
      ]
    },
    {
      "cell_type": "code",
      "metadata": {
        "id": "8DPtZNRUj8GM",
        "colab_type": "code",
        "colab": {}
      },
      "source": [
        "def compare_results(C,A,B,decimals=2):\n",
        "    return np.array_equal(np.around(np.dot(A,B), decimals=decimals),\n",
        "                          np.around(C,decimals=decimals))"
      ],
      "execution_count": 0,
      "outputs": []
    },
    {
      "cell_type": "markdown",
      "metadata": {
        "id": "EduAt1cEoJBu",
        "colab_type": "text"
      },
      "source": [
        "Versión recursiva del mecanismo iterativo"
      ]
    },
    {
      "cell_type": "code",
      "metadata": {
        "id": "O7ygIPXNj8GW",
        "colab_type": "code",
        "colab": {}
      },
      "source": [
        "def matrix_multiplication_recursivo(A, B, base_case = 2):\n",
        "    if get_matrix_dimensions(A) != get_matrix_dimensions(B): # No es matriz cuadrada\n",
        "        raise Exception(f'Both matrices are not the same dimension!')\n",
        "    elif get_matrix_dimensions(A) == (base_case, base_case): # Nos encontramos en caso base, pasamos a iterativo\n",
        "      return default_matrix_multiplication(A,B)\n",
        "    else: # Trabajar de forma recursiva\n",
        "      # Separar/obtener las submatrices de N = 2\n",
        "      a11, a12, a21, a22 = split_matrix(A)\n",
        "      b11, b12, b21, b22 = split_matrix(B)\n",
        "      # Obtener los valores de la multiplicacion de los subindices de las matricez.\n",
        "      c11 = matrix_multiplication_recursivo(a11,b11) + matrix_multiplication_recursivo(a12, b21)\n",
        "      c12 = matrix_multiplication_recursivo(a11,b12) + matrix_multiplication_recursivo(a12, b22)\n",
        "      c21 = matrix_multiplication_recursivo(a21,b11) + matrix_multiplication_recursivo(a22, b21)\n",
        "      c22 = matrix_multiplication_recursivo(a21,b12) + matrix_multiplication_recursivo(a22, b22)\n",
        "      #Formar el resultado de la multiplicación\n",
        "      C = np.vstack((np.hstack((c11,c12)), np.hstack((c21,c22))))\n",
        "      return C"
      ],
      "execution_count": 0,
      "outputs": []
    },
    {
      "cell_type": "code",
      "metadata": {
        "id": "mRqxtYm8ojYz",
        "colab_type": "code",
        "colab": {
          "base_uri": "https://localhost:8080/",
          "height": 67
        },
        "outputId": "05c2817d-28fd-4bf5-c93f-da964478f91a"
      },
      "source": [
        "n = 64\n",
        "A = np.matrix(np.random.uniform(0.0, 1.0, n*n).reshape(n,n))\n",
        "B = np.matrix(np.random.uniform(0.0, 1.0, n*n).reshape(n,n))\n",
        "\n",
        "C=default_matrix_multiplication(A,B)\n",
        "print('Resultado correcto iterativo : {0}'.format(compare_results(C,A,B,1)))\n",
        "\n",
        "C2=strassen(A,B)\n",
        "print('Resultado correcto strassen : {0}'.format(compare_results(C2,A,B,1)))\n",
        "\n",
        "C3=matrix_multiplication_recursivo(A,B)\n",
        "\n",
        "print('Resultado correcto multiplicación recursiva : {0}'.format(compare_results(C3,A,B,1)))"
      ],
      "execution_count": 27,
      "outputs": [
        {
          "output_type": "stream",
          "text": [
            "Resultado correcto iterativo : True\n",
            "Resultado correcto strassen : True\n",
            "Resultado correcto multiplicación recursiva : True\n"
          ],
          "name": "stdout"
        }
      ]
    },
    {
      "cell_type": "markdown",
      "metadata": {
        "id": "BeG2_jcUzrPR",
        "colab_type": "text"
      },
      "source": [
        "Se prueban los tiempos de ejecución anteriores"
      ]
    },
    {
      "cell_type": "code",
      "metadata": {
        "id": "gyCCLNwCzqMo",
        "colab_type": "code",
        "colab": {
          "base_uri": "https://localhost:8080/",
          "height": 764
        },
        "outputId": "10052323-11fc-42e6-af21-d8af9d912186"
      },
      "source": [
        "import time\n",
        "import pandas\n",
        "import IPython\n",
        "\n",
        "\n",
        "# Crear matriz cuadrada de dimension n\n",
        "\n",
        "dimensiones = [4,32, 64, 256, 512]\n",
        "casos_base = [2,4,8,32]\n",
        "for n in dimensiones:\n",
        "  if(n != dimensiones[0]): print(\"#\"*50)\n",
        "  A = np.matrix(np.random.uniform(0.0, 1.0, n*n).reshape(n,n))\n",
        "  B = np.matrix(np.random.uniform(0.0, 1.0, n*n).reshape(n,n))\n",
        "\n",
        "  print(\"Matriz (\"+str(n)+\"x\"+str(n)+\")\")\n",
        "  table_data = {}\n",
        "  for base_case in casos_base:\n",
        "    t = time.clock()\n",
        "    C = default_matrix_multiplication(A,B)\n",
        "    t1 = time.clock() - t\n",
        "\n",
        "    t = time.clock()\n",
        "    C = strassen(A,B,base_case)\n",
        "    t2 = time.clock() - t\n",
        "\n",
        "    t = time.clock()\n",
        "    C = matrix_multiplication_recursivo(A,B,base_case)\n",
        "    t3 = time.clock() - t\n",
        "    table_data.update({\"Caso base \"+str(base_case): [t1,t2,t3] })\n",
        "  table_frame = pandas.DataFrame(table_data, index = [\"Iterativo\",\"Strassen\",\"Recursivo\"])\n",
        "  IPython.display.display(table_frame)\n",
        "\n"
      ],
      "execution_count": 34,
      "outputs": [
        {
          "output_type": "stream",
          "text": [
            "Matriz (4x4)\n"
          ],
          "name": "stdout"
        },
        {
          "output_type": "display_data",
          "data": {
            "text/html": [
              "<div>\n",
              "<style scoped>\n",
              "    .dataframe tbody tr th:only-of-type {\n",
              "        vertical-align: middle;\n",
              "    }\n",
              "\n",
              "    .dataframe tbody tr th {\n",
              "        vertical-align: top;\n",
              "    }\n",
              "\n",
              "    .dataframe thead th {\n",
              "        text-align: right;\n",
              "    }\n",
              "</style>\n",
              "<table border=\"1\" class=\"dataframe\">\n",
              "  <thead>\n",
              "    <tr style=\"text-align: right;\">\n",
              "      <th></th>\n",
              "      <th>Caso base 2</th>\n",
              "      <th>Caso base 4</th>\n",
              "      <th>Caso base 8</th>\n",
              "      <th>Caso base 32</th>\n",
              "    </tr>\n",
              "  </thead>\n",
              "  <tbody>\n",
              "    <tr>\n",
              "      <th>Iterativo</th>\n",
              "      <td>0.000803</td>\n",
              "      <td>0.000843</td>\n",
              "      <td>0.000368</td>\n",
              "      <td>0.000390</td>\n",
              "    </tr>\n",
              "    <tr>\n",
              "      <th>Strassen</th>\n",
              "      <td>0.001052</td>\n",
              "      <td>0.000931</td>\n",
              "      <td>0.000908</td>\n",
              "      <td>0.000864</td>\n",
              "    </tr>\n",
              "    <tr>\n",
              "      <th>Recursivo</th>\n",
              "      <td>0.000855</td>\n",
              "      <td>0.000362</td>\n",
              "      <td>0.000865</td>\n",
              "      <td>0.000866</td>\n",
              "    </tr>\n",
              "  </tbody>\n",
              "</table>\n",
              "</div>"
            ],
            "text/plain": [
              "           Caso base 2  Caso base 4  Caso base 8  Caso base 32\n",
              "Iterativo     0.000803     0.000843     0.000368      0.000390\n",
              "Strassen      0.001052     0.000931     0.000908      0.000864\n",
              "Recursivo     0.000855     0.000362     0.000865      0.000866"
            ]
          },
          "metadata": {
            "tags": []
          }
        },
        {
          "output_type": "stream",
          "text": [
            "##################################################\n",
            "Matriz (32x32)\n"
          ],
          "name": "stdout"
        },
        {
          "output_type": "display_data",
          "data": {
            "text/html": [
              "<div>\n",
              "<style scoped>\n",
              "    .dataframe tbody tr th:only-of-type {\n",
              "        vertical-align: middle;\n",
              "    }\n",
              "\n",
              "    .dataframe tbody tr th {\n",
              "        vertical-align: top;\n",
              "    }\n",
              "\n",
              "    .dataframe thead th {\n",
              "        text-align: right;\n",
              "    }\n",
              "</style>\n",
              "<table border=\"1\" class=\"dataframe\">\n",
              "  <thead>\n",
              "    <tr style=\"text-align: right;\">\n",
              "      <th></th>\n",
              "      <th>Caso base 2</th>\n",
              "      <th>Caso base 4</th>\n",
              "      <th>Caso base 8</th>\n",
              "      <th>Caso base 32</th>\n",
              "    </tr>\n",
              "  </thead>\n",
              "  <tbody>\n",
              "    <tr>\n",
              "      <th>Iterativo</th>\n",
              "      <td>0.073966</td>\n",
              "      <td>0.068798</td>\n",
              "      <td>0.077570</td>\n",
              "      <td>0.068751</td>\n",
              "    </tr>\n",
              "    <tr>\n",
              "      <th>Strassen</th>\n",
              "      <td>0.166505</td>\n",
              "      <td>0.156118</td>\n",
              "      <td>0.157048</td>\n",
              "      <td>0.069861</td>\n",
              "    </tr>\n",
              "    <tr>\n",
              "      <th>Recursivo</th>\n",
              "      <td>0.217940</td>\n",
              "      <td>0.221965</td>\n",
              "      <td>0.217305</td>\n",
              "      <td>0.068960</td>\n",
              "    </tr>\n",
              "  </tbody>\n",
              "</table>\n",
              "</div>"
            ],
            "text/plain": [
              "           Caso base 2  Caso base 4  Caso base 8  Caso base 32\n",
              "Iterativo     0.073966     0.068798     0.077570      0.068751\n",
              "Strassen      0.166505     0.156118     0.157048      0.069861\n",
              "Recursivo     0.217940     0.221965     0.217305      0.068960"
            ]
          },
          "metadata": {
            "tags": []
          }
        },
        {
          "output_type": "stream",
          "text": [
            "##################################################\n",
            "Matriz (64x64)\n"
          ],
          "name": "stdout"
        },
        {
          "output_type": "display_data",
          "data": {
            "text/html": [
              "<div>\n",
              "<style scoped>\n",
              "    .dataframe tbody tr th:only-of-type {\n",
              "        vertical-align: middle;\n",
              "    }\n",
              "\n",
              "    .dataframe tbody tr th {\n",
              "        vertical-align: top;\n",
              "    }\n",
              "\n",
              "    .dataframe thead th {\n",
              "        text-align: right;\n",
              "    }\n",
              "</style>\n",
              "<table border=\"1\" class=\"dataframe\">\n",
              "  <thead>\n",
              "    <tr style=\"text-align: right;\">\n",
              "      <th></th>\n",
              "      <th>Caso base 2</th>\n",
              "      <th>Caso base 4</th>\n",
              "      <th>Caso base 8</th>\n",
              "      <th>Caso base 32</th>\n",
              "    </tr>\n",
              "  </thead>\n",
              "  <tbody>\n",
              "    <tr>\n",
              "      <th>Iterativo</th>\n",
              "      <td>0.676840</td>\n",
              "      <td>0.541093</td>\n",
              "      <td>0.577358</td>\n",
              "      <td>0.716712</td>\n",
              "    </tr>\n",
              "    <tr>\n",
              "      <th>Strassen</th>\n",
              "      <td>1.133902</td>\n",
              "      <td>1.110406</td>\n",
              "      <td>1.115001</td>\n",
              "      <td>1.123352</td>\n",
              "    </tr>\n",
              "    <tr>\n",
              "      <th>Recursivo</th>\n",
              "      <td>1.754798</td>\n",
              "      <td>1.753009</td>\n",
              "      <td>1.747141</td>\n",
              "      <td>1.747420</td>\n",
              "    </tr>\n",
              "  </tbody>\n",
              "</table>\n",
              "</div>"
            ],
            "text/plain": [
              "           Caso base 2  Caso base 4  Caso base 8  Caso base 32\n",
              "Iterativo     0.676840     0.541093     0.577358      0.716712\n",
              "Strassen      1.133902     1.110406     1.115001      1.123352\n",
              "Recursivo     1.754798     1.753009     1.747141      1.747420"
            ]
          },
          "metadata": {
            "tags": []
          }
        },
        {
          "output_type": "stream",
          "text": [
            "##################################################\n",
            "Matriz (256x256)\n"
          ],
          "name": "stdout"
        },
        {
          "output_type": "display_data",
          "data": {
            "text/html": [
              "<div>\n",
              "<style scoped>\n",
              "    .dataframe tbody tr th:only-of-type {\n",
              "        vertical-align: middle;\n",
              "    }\n",
              "\n",
              "    .dataframe tbody tr th {\n",
              "        vertical-align: top;\n",
              "    }\n",
              "\n",
              "    .dataframe thead th {\n",
              "        text-align: right;\n",
              "    }\n",
              "</style>\n",
              "<table border=\"1\" class=\"dataframe\">\n",
              "  <thead>\n",
              "    <tr style=\"text-align: right;\">\n",
              "      <th></th>\n",
              "      <th>Caso base 2</th>\n",
              "      <th>Caso base 4</th>\n",
              "      <th>Caso base 8</th>\n",
              "      <th>Caso base 32</th>\n",
              "    </tr>\n",
              "  </thead>\n",
              "  <tbody>\n",
              "    <tr>\n",
              "      <th>Iterativo</th>\n",
              "      <td>34.807965</td>\n",
              "      <td>33.205263</td>\n",
              "      <td>33.076727</td>\n",
              "      <td>32.424100</td>\n",
              "    </tr>\n",
              "    <tr>\n",
              "      <th>Strassen</th>\n",
              "      <td>53.526329</td>\n",
              "      <td>51.667024</td>\n",
              "      <td>49.730474</td>\n",
              "      <td>49.247916</td>\n",
              "    </tr>\n",
              "    <tr>\n",
              "      <th>Recursivo</th>\n",
              "      <td>108.219652</td>\n",
              "      <td>104.773918</td>\n",
              "      <td>102.176214</td>\n",
              "      <td>100.426545</td>\n",
              "    </tr>\n",
              "  </tbody>\n",
              "</table>\n",
              "</div>"
            ],
            "text/plain": [
              "           Caso base 2  Caso base 4  Caso base 8  Caso base 32\n",
              "Iterativo    34.807965    33.205263    33.076727     32.424100\n",
              "Strassen     53.526329    51.667024    49.730474     49.247916\n",
              "Recursivo   108.219652   104.773918   102.176214    100.426545"
            ]
          },
          "metadata": {
            "tags": []
          }
        },
        {
          "output_type": "stream",
          "text": [
            "##################################################\n",
            "Matriz (512x512)\n"
          ],
          "name": "stdout"
        },
        {
          "output_type": "display_data",
          "data": {
            "text/html": [
              "<div>\n",
              "<style scoped>\n",
              "    .dataframe tbody tr th:only-of-type {\n",
              "        vertical-align: middle;\n",
              "    }\n",
              "\n",
              "    .dataframe tbody tr th {\n",
              "        vertical-align: top;\n",
              "    }\n",
              "\n",
              "    .dataframe thead th {\n",
              "        text-align: right;\n",
              "    }\n",
              "</style>\n",
              "<table border=\"1\" class=\"dataframe\">\n",
              "  <thead>\n",
              "    <tr style=\"text-align: right;\">\n",
              "      <th></th>\n",
              "      <th>Caso base 2</th>\n",
              "      <th>Caso base 4</th>\n",
              "      <th>Caso base 8</th>\n",
              "      <th>Caso base 32</th>\n",
              "    </tr>\n",
              "  </thead>\n",
              "  <tbody>\n",
              "    <tr>\n",
              "      <th>Iterativo</th>\n",
              "      <td>262.150762</td>\n",
              "      <td>252.016501</td>\n",
              "      <td>258.752948</td>\n",
              "      <td>284.806720</td>\n",
              "    </tr>\n",
              "    <tr>\n",
              "      <th>Strassen</th>\n",
              "      <td>331.645727</td>\n",
              "      <td>339.178402</td>\n",
              "      <td>340.081970</td>\n",
              "      <td>377.633817</td>\n",
              "    </tr>\n",
              "    <tr>\n",
              "      <th>Recursivo</th>\n",
              "      <td>771.194786</td>\n",
              "      <td>791.789525</td>\n",
              "      <td>806.485463</td>\n",
              "      <td>831.324782</td>\n",
              "    </tr>\n",
              "  </tbody>\n",
              "</table>\n",
              "</div>"
            ],
            "text/plain": [
              "           Caso base 2  Caso base 4  Caso base 8  Caso base 32\n",
              "Iterativo   262.150762   252.016501   258.752948    284.806720\n",
              "Strassen    331.645727   339.178402   340.081970    377.633817\n",
              "Recursivo   771.194786   791.789525   806.485463    831.324782"
            ]
          },
          "metadata": {
            "tags": []
          }
        }
      ]
    }
  ]
}